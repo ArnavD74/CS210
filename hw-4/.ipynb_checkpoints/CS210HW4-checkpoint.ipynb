{
 "cells": [
  {
   "cell_type": "markdown",
   "metadata": {
    "deletable": false,
    "editable": false,
    "tags": []
   },
   "source": [
    "### CS 210: Data Management for Data Science\n",
    "#### Fall 2023"
   ]
  },
  {
   "cell_type": "markdown",
   "metadata": {
    "deletable": false,
    "editable": false,
    "tags": []
   },
   "source": [
    "Before you turn this problem in, make sure everything runs as expected. First, **restart the kernel** (in the menubar, select Kernel$\\rightarrow$Restart) and then **run all cells** (in the menubar, select Cell$\\rightarrow$Run All).\n",
    "\n",
    "Make sure you fill in any place that says `YOUR CODE HERE` or \"YOUR ANSWER HERE\", as well as your name and collaborators below:"
   ]
  },
  {
   "cell_type": "code",
   "execution_count": null,
   "metadata": {
    "deletable": false,
    "tags": []
   },
   "outputs": [],
   "source": [
    "NAME = \"Arnav Dashaputra\"\n",
    "COLLABORATORS = \"\""
   ]
  },
  {
   "cell_type": "markdown",
   "metadata": {},
   "source": [
    "---"
   ]
  },
  {
   "cell_type": "markdown",
   "metadata": {
    "deletable": false,
    "editable": false,
    "id": "2AnjgNBBMNyu",
    "nbgrader": {
     "cell_type": "markdown",
     "checksum": "02c0011b0ddf99522bf3ac3e37a5683b",
     "grade": false,
     "grade_id": "cell-aadc6f7d863d07a5",
     "locked": true,
     "schema_version": 3,
     "solution": false,
     "task": false
    },
    "tags": []
   },
   "source": [
    "## Question 1\n"
   ]
  },
  {
   "cell_type": "markdown",
   "metadata": {
    "deletable": false,
    "editable": false,
    "id": "vq_rZxc_5ZPC",
    "nbgrader": {
     "cell_type": "markdown",
     "checksum": "346082170a8c6b4cc4f468ce3536b672",
     "grade": false,
     "grade_id": "cell-1586a6355e35bdc5",
     "locked": true,
     "schema_version": 3,
     "solution": false,
     "task": false
    },
    "tags": []
   },
   "source": [
    "Suppose we have a SQL database that contains a table called student_info. You should run the following code block to create the database and the table."
   ]
  },
  {
   "cell_type": "code",
   "execution_count": null,
   "metadata": {
    "colab": {
     "base_uri": "https://localhost:8080/"
    },
    "deletable": false,
    "editable": false,
    "id": "vDeQ8iJ3M1Hh",
    "nbgrader": {
     "cell_type": "code",
     "checksum": "2846b43a0a12e80673fd410d34056ac5",
     "grade": false,
     "grade_id": "cell-91029b5f4c39aa00",
     "locked": true,
     "schema_version": 3,
     "solution": false,
     "task": false
    },
    "outputId": "c1d08d77-a534-4516-dd35-f9a9feb46596",
    "tags": []
   },
   "outputs": [],
   "source": [
    "import sqlite3\n",
    "\n",
    "conn = sqlite3.connect('test.db')\n",
    "print(\"Opened database successfully\");\n",
    "\n",
    "conn.execute('''\n",
    "CREATE TABLE IF NOT EXISTS student_info(first_name text,\n",
    "                      last_name text,\n",
    "                      credit integer,\n",
    "                      gpa float);''')\n",
    "print(\"Table created successfully\");\n",
    "# Clearing the table\n",
    "conn.execute('DELETE FROM student_info;',);\n",
    "\n",
    "# Inserting values\n",
    "conn.execute(\"INSERT INTO student_info VALUES('Kate', 'Perry', 120, 3.3);\")\n",
    "conn.execute(\"INSERT INTO student_info VALUES('Kelvin', 'Harris', 50, 3.0);\")\n",
    "conn.execute(\"INSERT INTO student_info VALUES('Bin', 'Diesel', 250, 3.5);\")\n",
    "conn.execute(\"INSERT INTO student_info VALUES('nick', 'Cage', 22, 2.8);\")\n",
    "conn.execute(\"INSERT INTO student_info VALUES('Shawn', 'Carter', 100, 3.7);\")\n",
    "conn.execute(\"INSERT INTO student_info VALUES('Lucy', 'Lu', 200, 3.8 );\")\n",
    "conn.execute(\"INSERT INTO student_info VALUES('John', 'Senna', 0, 0.0 );\")\n",
    "conn.execute(\"INSERT INTO student_info VALUES('Syd', 'Barrett', 183, 2.8 );\")\n",
    "conn.execute(\"INSERT INTO student_info VALUES('Peter', 'Chao', 111, 2.3 );\")\n",
    "conn.execute(\"INSERT INTO student_info VALUES('Shang', 'abi', 64, 3.1 );\")\n",
    "\n",
    "conn.commit()\n",
    "conn.close()\n",
    "\n",
    "\n"
   ]
  },
  {
   "cell_type": "markdown",
   "metadata": {
    "deletable": false,
    "editable": false,
    "id": "Uk4AcSS4yW50",
    "nbgrader": {
     "cell_type": "markdown",
     "checksum": "16b41a97c166f59a751e341a7adc04e1",
     "grade": false,
     "grade_id": "cell-88de010e26f4ec47",
     "locked": true,
     "schema_version": 3,
     "solution": false,
     "task": false
    },
    "tags": []
   },
   "source": [
    "This is an example of how to execute sql query"
   ]
  },
  {
   "cell_type": "code",
   "execution_count": null,
   "metadata": {
    "colab": {
     "base_uri": "https://localhost:8080/"
    },
    "deletable": false,
    "editable": false,
    "id": "sqYdWubX5S-4",
    "nbgrader": {
     "cell_type": "code",
     "checksum": "bbcbd4366a3f539863df479500d452da",
     "grade": false,
     "grade_id": "cell-b33bd7e067f835f7",
     "locked": true,
     "schema_version": 3,
     "solution": false,
     "task": false
    },
    "outputId": "1f48d02e-6468-46fb-8f97-a58f24aef7ee",
    "tags": []
   },
   "outputs": [],
   "source": [
    "conn = sqlite3.connect('test.db')\n",
    "\n",
    "\n",
    "# cursor = conn.execute(''' Your SQL Query''')\n",
    "\n",
    "\n",
    "cursor = conn.execute(''' SELECT *\n",
    "                          FROM student_info;''')\n",
    "\n",
    "\n",
    "for row in cursor:\n",
    "  print(row)\n",
    "conn.close()"
   ]
  },
  {
   "cell_type": "markdown",
   "metadata": {
    "deletable": false,
    "editable": false,
    "id": "e3pUebG3yd7e",
    "nbgrader": {
     "cell_type": "markdown",
     "checksum": "be4e7c32fddb0cb7864ac9a275602268",
     "grade": false,
     "grade_id": "cell-6efe753ad7ce780c",
     "locked": true,
     "schema_version": 3,
     "solution": false,
     "task": false
    },
    "tags": []
   },
   "source": [
    "Now, please write an SQL query to retrieve the first names of students whose credits are fewer than 150 and who have a GPA higher than 3.0. Then, display the results as shown in the example."
   ]
  },
  {
   "cell_type": "code",
   "execution_count": null,
   "metadata": {
    "deletable": false,
    "id": "9Hxwa20xy33S",
    "nbgrader": {
     "cell_type": "code",
     "checksum": "76476fab4ec7e72256ec2f5045276c47",
     "grade": true,
     "grade_id": "cell-4c56a3c1846f66ce",
     "locked": false,
     "points": 0,
     "schema_version": 3,
     "solution": true,
     "task": false
    },
    "tags": []
   },
   "outputs": [],
   "source": [
    "def retrieve_students():\n",
    "    conn = sqlite3.connect('test.db')\n",
    "    \n",
    "    cursor = conn.execute(\"\"\"\n",
    "    SELECT first_name\n",
    "    FROM student_info\n",
    "    WHERE credit < 150 AND gpa > 3.0;\n",
    "    \"\"\")\n",
    "\n",
    "    for row in cursor:\n",
    "        print(row[0])\n",
    "\n",
    "    conn.close()\n",
    "    \n",
    "retrieve_students()"
   ]
  },
  {
   "cell_type": "markdown",
   "metadata": {
    "deletable": false,
    "editable": false,
    "id": "AOoqO_h3JWTv",
    "nbgrader": {
     "cell_type": "markdown",
     "checksum": "a37327da554a68a2d43f650de2643f21",
     "grade": false,
     "grade_id": "cell-7460bea1aabc1278",
     "locked": true,
     "schema_version": 3,
     "solution": false,
     "task": false
    },
    "tags": []
   },
   "source": [
    "## Question 2\n",
    "\n",
    "Many people in the Computer Science department use '[dot]' and '[at]' to replace the symbols '.' and '@' when posting their emails on websites. For example, they write 'John[dot]Wick[at]rutgers[dot]edu' instead of 'John.Wick@rutgers.edu.' This practice helps mitigate issues related to email scraping and spam. Suppose we have collected all the email addresses from the Computer Science department and now want to use a regular expression to extract them."
   ]
  },
  {
   "cell_type": "code",
   "execution_count": null,
   "metadata": {
    "deletable": false,
    "editable": false,
    "id": "wxrpu3Z3LaO6",
    "nbgrader": {
     "cell_type": "code",
     "checksum": "e1ce8fae704593d7983fdd37cae57720",
     "grade": false,
     "grade_id": "cell-971967602e0fe3ce",
     "locked": true,
     "schema_version": 3,
     "solution": false,
     "task": false
    },
    "tags": []
   },
   "outputs": [],
   "source": [
    "email_list = ['John[dot]Wick[at]rutgers[dot]edu',\n",
    "              'Nancy@rutgers.edu.com',\n",
    "              'Toby.Chavez.edu',\n",
    "              'dfe.edu'\n",
    "              'Steve[at]Peterson[at]rutgers[dot]edu',\n",
    "              'Sydney[at]Lucas[at]rutgers[dot]edu',\n",
    "              'Sydney[at][at]rutgers[dot]edu',\n",
    "              'Byron.Dennis@umd.edu',\n",
    "              'Nancy.Ruell@rutgers.edu',\n",
    "              'Benjamin[dot]Conner[at]rutgers[dot]edu',\n",
    "              'Nancy@rutgersedu',\n",
    "              'dfe.edu.com',\n",
    "              'dfe.edu.[]',\n",
    "            ]"
   ]
  },
  {
   "cell_type": "markdown",
   "metadata": {
    "deletable": false,
    "editable": false,
    "id": "SJ7O_6R2MGCy",
    "nbgrader": {
     "cell_type": "markdown",
     "checksum": "3072ef595133ea6c3b0c8911b0362599",
     "grade": false,
     "grade_id": "cell-dbecc4a32ade8edc",
     "locked": true,
     "schema_version": 3,
     "solution": false,
     "task": false
    },
    "tags": []
   },
   "source": [
    "Write code to read each email address and extract all valid ones. Valid email addresses are those in the formats 'first.last@domain.com', 'first.last@domain.edu', 'first[dot]last[at]domain[dot]com', and 'first[dot]last[at]domain[dot]edu'. Match all valid email addresses and convert them into the format 'firstname.lastname@domain.edu' or 'firstname.lastname@domain.com'. Then, return all valid email addresses in a list."
   ]
  },
  {
   "cell_type": "code",
   "execution_count": null,
   "metadata": {
    "deletable": false,
    "id": "Bpn9YQWjz1af",
    "nbgrader": {
     "cell_type": "code",
     "checksum": "b64f13b553255725fe284f1cd026b559",
     "grade": true,
     "grade_id": "cell-dd135d45818cd4cb",
     "locked": false,
     "points": 0,
     "schema_version": 3,
     "solution": true,
     "task": false
    },
    "tags": []
   },
   "outputs": [],
   "source": [
    "import re\n",
    "\n",
    "def valid_email_list(email_list):\n",
    "    valid_emails = []\n",
    "\n",
    "    for email in email_list:\n",
    "        if '[dot]' in email or '[at]' in email:\n",
    "            email = email.replace('[dot]', '.').replace('[at]', '@') #replace [dot] and [at] with proper symbols\n",
    "        \n",
    "        match = re.match(r'([a-zA-Z0-9_.+-]+)\\.([a-zA-Z0-9_.+-]+)@([a-zA-Z0-9_.+-]+\\.(edu|com))', email)\n",
    "        \n",
    "        if match:\n",
    "            valid_emails.append(email)\n",
    "\n",
    "    return valid_emails"
   ]
  },
  {
   "cell_type": "code",
   "execution_count": null,
   "metadata": {
    "colab": {
     "base_uri": "https://localhost:8080/",
     "height": 245
    },
    "deletable": false,
    "editable": false,
    "id": "heT8-qy80494",
    "nbgrader": {
     "cell_type": "code",
     "checksum": "ed1043ad7734a111cc5b568752a79d84",
     "grade": true,
     "grade_id": "cell-4f23a44b1717fcb5",
     "locked": true,
     "points": 0,
     "schema_version": 3,
     "solution": false,
     "task": false
    },
    "outputId": "e67b8700-da1a-4286-831e-21f95979b2b5",
    "tags": []
   },
   "outputs": [],
   "source": [
    "assert len(valid_email_list(email_list)) == 4\n",
    "assert 'John.Wick@rutgers.edu' in valid_email_list(email_list)\n",
    "assert 'Nancy.Ruell@rutgers.edu' in valid_email_list(email_list)\n",
    "assert 'Benjamin.Conner@rutgers.edu' in valid_email_list(email_list)\n",
    "assert 'Byron.Dennis@umd.edu' in valid_email_list(email_list)"
   ]
  },
  {
   "cell_type": "markdown",
   "metadata": {
    "deletable": false,
    "editable": false,
    "id": "Z_DC1Wfi3ARE",
    "nbgrader": {
     "cell_type": "markdown",
     "checksum": "a6e8276db2c407483974b935add0a7c0",
     "grade": false,
     "grade_id": "cell-bf30aaf1f28c8777",
     "locked": true,
     "schema_version": 3,
     "solution": false,
     "task": false
    },
    "tags": []
   },
   "source": [
    "## Problem 3: EU Cities Temperatures Dataset\n",
    "\n",
    "Given a CSV data file as represented by the sample file *EuCitiesTemperatures.csv* (213 records), load it into a Pandas DataFrame and perform the following tasks on it."
   ]
  },
  {
   "cell_type": "markdown",
   "metadata": {
    "deletable": false,
    "editable": false,
    "id": "pkLSzk9K3DOk",
    "nbgrader": {
     "cell_type": "markdown",
     "checksum": "2f7c5fa4e7a3adc95649f41c88d1c557",
     "grade": false,
     "grade_id": "cell-546b85a140240882",
     "locked": true,
     "schema_version": 3,
     "solution": false,
     "task": false
    },
    "tags": []
   },
   "source": [
    "## Preprocessing/Analysis\n",
    "\n",
    "1.Fill in the missing latitude and longitude values by calculating the average for that country. Round the average to 2 decimal places.\n"
   ]
  },
  {
   "cell_type": "code",
   "execution_count": null,
   "metadata": {
    "id": "TW0EZkqw3G8g",
    "tags": []
   },
   "outputs": [],
   "source": [
    "import pandas as pd\n",
    "\n",
    "df = pd.read_csv('./EuCitiesTemperatures.csv')\n",
    "\n",
    "country_avg_location = df.groupby('country')[['latitude', 'longitude']].mean().round(2)\n",
    "\n",
    "for country in country_avg_location.index:\n",
    "    df.loc[(df['country'] == country) & (df['latitude'].isna()), 'latitude'] = country_avg_location.loc[country, 'latitude']\n",
    "    df.loc[(df['country'] == country) & (df['longitude'].isna()), 'longitude'] = country_avg_location.loc[country, 'longitude']\n",
    "\n",
    "print(df)"
   ]
  },
  {
   "cell_type": "markdown",
   "metadata": {
    "deletable": false,
    "editable": false,
    "id": "d7lk32Vf3GI2",
    "nbgrader": {
     "cell_type": "markdown",
     "checksum": "dd29890ac0c996cddfadb2027b7e1651",
     "grade": false,
     "grade_id": "cell-de5c4ead2aa89044",
     "locked": true,
     "schema_version": 3,
     "solution": false,
     "task": false
    },
    "tags": []
   },
   "source": [
    "2.Find out the subset of cities that lie between latitudes 40 to 60 (both inclusive) and longitudes 15 to 30 (both inclusive). Find out which countries have the maximum number of cities in this geographical band. (More than one country could have the maximum number of values.)"
   ]
  },
  {
   "cell_type": "code",
   "execution_count": null,
   "metadata": {
    "id": "JyOzEQYz3Kqv",
    "tags": []
   },
   "outputs": [],
   "source": [
    "filtered_cities = df[(df['latitude'] >= 40) & (df['latitude'] <= 60) & (df['longitude'] >= 15) & (df['longitude'] <= 30)]\n",
    "city_count_per_country = filtered_cities['country'].value_counts()\n",
    "max_cities = city_count_per_country.max()\n",
    "countries_with_max_cities = city_count_per_country[city_count_per_country == max_cities].index.tolist()\n",
    "\n",
    "print(countries_with_max_cities)"
   ]
  },
  {
   "cell_type": "markdown",
   "metadata": {
    "deletable": false,
    "editable": false,
    "id": "DHOfq3vS3JPc",
    "nbgrader": {
     "cell_type": "markdown",
     "checksum": "4962e4a6f8bfa4a66a2e98869e87e0f5",
     "grade": false,
     "grade_id": "cell-fedcf367ba8e136f",
     "locked": true,
     "schema_version": 3,
     "solution": false,
     "task": false
    },
    "tags": []
   },
   "source": [
    "3.Fill in the missing temperature values by the average temperature value of the similar region type. A region type would be a combinaton of whether it is in EU (yes/no) and whether it has a coastline (yes/no).\n",
    "For example, if we have a missing temperature value for Bergen, Norway, which is not in the EU but lies on the coast, we will fill it with the average temperature of cities with EU='no' and coastline='yes'"
   ]
  },
  {
   "cell_type": "code",
   "execution_count": null,
   "metadata": {
    "id": "yJOX8bxy3JfK",
    "tags": []
   },
   "outputs": [],
   "source": [
    "avg_temp_by_type = df.groupby(['EU', 'coastline'])['temperature'].mean()\n",
    "\n",
    "def fill_missing_temperature(row):\n",
    "    if pd.isna(row['temperature']):\n",
    "        return avg_temp_by_type[row['EU'], row['coastline']]\n",
    "    else:\n",
    "        return row['temperature']\n",
    "\n",
    "df['temperature'] = df.apply(fill_missing_temperature, axis=1)\n",
    "\n",
    "print(df)"
   ]
  },
  {
   "cell_type": "markdown",
   "metadata": {
    "deletable": false,
    "editable": false,
    "id": "ORcEiHuf3NaT",
    "nbgrader": {
     "cell_type": "markdown",
     "checksum": "4047b4369bd7e505c9a705081e416eb5",
     "grade": false,
     "grade_id": "cell-17211ab62f6d7247",
     "locked": true,
     "schema_version": 3,
     "solution": false,
     "task": false
    },
    "tags": []
   },
   "source": [
    "## Visualization\n",
    "For all plots, make sure to label the axes, and set appropriate tick labels.\n",
    "\n",
    "1.Plot a bar chart for the number of cities belonging to each of the regions described in Preprocessing/Analysis #3 above."
   ]
  },
  {
   "cell_type": "code",
   "execution_count": null,
   "metadata": {
    "id": "T-SfOp3V3UPF",
    "tags": []
   },
   "outputs": [],
   "source": [
    "import matplotlib.pyplot as plt\n",
    "\n",
    "region_city_count = df.groupby(['EU', 'coastline'])['city'].count()\n",
    "labels = [f'EU: {eu}, Coastline: {coastline}' for eu, coastline in region_city_count.index]\n",
    "values = region_city_count.values\n",
    "\n",
    "plt.figure(figsize=(10, 6))\n",
    "plt.bars = plt.bar(labels, values)\n",
    "plt.xlabel('Region Type')\n",
    "plt.ylabel('Number of Cities')\n",
    "plt.title('Number of Cities per Region Type')\n",
    "\n",
    "plt.show()"
   ]
  },
  {
   "cell_type": "markdown",
   "metadata": {
    "deletable": false,
    "editable": false,
    "id": "qB8UVF-S3UfU",
    "nbgrader": {
     "cell_type": "markdown",
     "checksum": "dc70350d4979c20a01e055fdd83a6ed1",
     "grade": false,
     "grade_id": "cell-4405d53d40e8c185",
     "locked": true,
     "schema_version": 3,
     "solution": false,
     "task": false
    },
    "tags": []
   },
   "source": [
    "2.Plot a scatter plot of latitude (y-axis) v/s longitude (x-axis) values to get a map-like visual of the cities under consideration. All the cities in the same country should have the same color."
   ]
  },
  {
   "cell_type": "code",
   "execution_count": null,
   "metadata": {
    "id": "76rFlkzB3YAf",
    "tags": []
   },
   "outputs": [],
   "source": [
    "import matplotlib.pyplot as plt\n",
    "import numpy as np\n",
    "\n",
    "countries = df['country'].unique()\n",
    "colors = plt.cm.jet(np.linspace(0, 1, len(countries))) #jet colormap array\n",
    "country_to_color = dict(zip(countries, colors))\n",
    "\n",
    "plt.figure(figsize=(12, 8))\n",
    "\n",
    "for country in countries:\n",
    "    country_data = df[df['country'] == country]\n",
    "    #create a plot per country and use the corresponding color\n",
    "    plt.scatter(country_data['longitude'], country_data['latitude'], color=country_to_color[country], label=country)\n",
    "\n",
    "plt.xlabel('Longitude')\n",
    "plt.ylabel('Latitude')\n",
    "plt.title('Scatter Plot of Cities by Country')\n",
    "plt.legend(loc='upper center', bbox_to_anchor=(0.5, -0.2), ncol=2) #move legend to bottom of plot\n",
    "\n",
    "plt.show()"
   ]
  },
  {
   "cell_type": "markdown",
   "metadata": {
    "deletable": false,
    "editable": false,
    "id": "eeHJAIft3YMp",
    "nbgrader": {
     "cell_type": "markdown",
     "checksum": "8c0f2d8e93368d245844cf26272c4a04",
     "grade": false,
     "grade_id": "cell-167a5cf053a0758a",
     "locked": true,
     "schema_version": 3,
     "solution": false,
     "task": false
    },
    "tags": []
   },
   "source": [
    "3.The population column contains values unique to each country. So two cities of the same country will show the same population value. Plot a histogram of the number of countries belonging to each population group: split the population values into 5 bins (groups)."
   ]
  },
  {
   "cell_type": "code",
   "execution_count": null,
   "metadata": {
    "id": "MDyjumPt3d5b",
    "tags": []
   },
   "outputs": [],
   "source": [
    "import matplotlib.pyplot as plt\n",
    "\n",
    "unique_countries = df.drop_duplicates(subset='country')\n",
    "\n",
    "plt.figure(figsize=(10, 6))\n",
    "plt.hist(unique_countries['population'], bins=5, edgecolor='black')\n",
    "\n",
    "plt.xlabel('Population')\n",
    "plt.ylabel('Number of Countries')\n",
    "plt.title('Number of Countries in Each Population Group')\n",
    "\n",
    "plt.show()"
   ]
  },
  {
   "cell_type": "markdown",
   "metadata": {
    "deletable": false,
    "editable": false,
    "id": "z4y-AUXS3cSR",
    "nbgrader": {
     "cell_type": "markdown",
     "checksum": "524ba9b9923dbd4341b4dffbbc30c805",
     "grade": false,
     "grade_id": "cell-cb5f2ac98d167b48",
     "locked": true,
     "schema_version": 3,
     "solution": false,
     "task": false
    },
    "tags": []
   },
   "source": [
    "4.Plot subplots (2, 2), with proper titles, one each for the region types described in Preprocessing/Analysis #3 above.\n",
    "\n",
    "Each subplot should be a scatter plot of Latitude (y-axis) vs. City (x-axis), where the color of the plot points should be based on the temperature values: ‘red’ for temperatures above 10, ‘blue’ for temperatures below 6 and ‘orange for temperatures between 6 and 10 (both inclusive). For each subplot, set xticks to an array of numbers from 0 to n-1 (both inclusive), where n is the total number of cities in each region type. This represents each city as a number between 0 and n-1."
   ]
  },
  {
   "cell_type": "code",
   "execution_count": null,
   "metadata": {
    "id": "8_hbtGh7ybjr",
    "tags": []
   },
   "outputs": [],
   "source": [
    "import matplotlib.pyplot as plt\n",
    "\n",
    "region_types = df.groupby(['EU', 'coastline']).groups.keys() #assigns EU or Coastline vals to region_types\n",
    "fig, axes = plt.subplots(2, 2, figsize=(15, 10))\n",
    "axes = axes.flatten() #converts array of axes into 1D array\n",
    "\n",
    "def color_based_on_temp(temp):\n",
    "    if temp > 10:\n",
    "        return 'red'\n",
    "    elif temp < 6:\n",
    "        return 'blue'\n",
    "    else:\n",
    "        return 'orange'\n",
    "\n",
    "for i, region in enumerate(region_types): #to write each subplot individually\n",
    "    region_data = df[(df['EU'] == region[0]) & (df['coastline'] == region[1])]\n",
    "    cities = range(len(region_data))\n",
    "    colors = region_data['temperature'].apply(color_based_on_temp)\n",
    "    axes[i].scatter(cities, region_data['latitude'], color=colors)\n",
    "    axes[i].set_xticks(cities)\n",
    "    axes[i].set_xlabel('City (numbered)')\n",
    "    axes[i].set_ylabel('Latitude')\n",
    "    axes[i].set_title(f'Region: EU={region[0]}, Coastline={region[1]}')\n",
    "\n",
    "plt.show()"
   ]
  }
 ],
 "metadata": {
  "colab": {
   "provenance": []
  },
  "kernelspec": {
   "display_name": "Python 3.11",
   "language": "python",
   "name": "python311"
  },
  "language_info": {
   "codemirror_mode": {
    "name": "ipython",
    "version": 3
   },
   "file_extension": ".py",
   "mimetype": "text/x-python",
   "name": "python",
   "nbconvert_exporter": "python",
   "pygments_lexer": "ipython3",
   "version": "3.11.0"
  }
 },
 "nbformat": 4,
 "nbformat_minor": 4
}
