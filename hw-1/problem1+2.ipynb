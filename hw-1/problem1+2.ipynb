{
 "cells": [
  {
   "cell_type": "markdown",
   "metadata": {
    "deletable": false,
    "editable": false,
    "tags": []
   },
   "source": [
    "### CS 210: Data Management for Data Science\n",
    "#### Fall 2023"
   ]
  },
  {
   "cell_type": "markdown",
   "metadata": {
    "deletable": false,
    "editable": false,
    "tags": []
   },
   "source": [
    "Before you turn this problem in, make sure everything runs as expected. First, **restart the kernel** (in the menubar, select Kernel$\\rightarrow$Restart) and then **run all cells** (in the menubar, select Cell$\\rightarrow$Run All).\n",
    "\n",
    "Make sure you fill in any place that says `YOUR CODE HERE` or \"YOUR ANSWER HERE\", as well as your name and collaborators below:"
   ]
  },
  {
   "cell_type": "code",
   "execution_count": 1,
   "metadata": {
    "deletable": false,
    "tags": []
   },
   "outputs": [],
   "source": [
    "NAME = \"Arnav Dashaputra\"\n",
    "COLLABORATORS = \"\""
   ]
  },
  {
   "cell_type": "markdown",
   "metadata": {},
   "source": [
    "---"
   ]
  },
  {
   "cell_type": "markdown",
   "metadata": {
    "deletable": false,
    "editable": false,
    "nbgrader": {
     "cell_type": "markdown",
     "checksum": "535c21960d4663d5edac398cb445d087",
     "grade": false,
     "grade_id": "jupyter",
     "locked": true,
     "schema_version": 3,
     "solution": false
    }
   },
   "source": [
    "For this problem set, we'll be using the Jupyter notebook:\n",
    "\n",
    "![](jupyter.png)"
   ]
  },
  {
   "cell_type": "markdown",
   "metadata": {
    "deletable": false,
    "editable": false,
    "nbgrader": {
     "cell_type": "markdown",
     "checksum": "c487a6070029dc0ad0eb392eb098e8e7",
     "grade": false,
     "grade_id": "problem-1-header",
     "locked": true,
     "schema_version": 3,
     "solution": false,
     "task": false
    },
    "tags": []
   },
   "source": [
    "---\n",
    "## 1. `primes` (10 points)\n",
    "\n",
    "Write a function to return all the prime numbers less than $n$, where $n$ is a parameter (assume $n>2$). \n",
    "\n",
    "``` \n",
    "$ primes(40)\n",
    "[2, 3, 5, 7, 11, 13, 17, 19, 23, 29, 31, 37]\n",
    "``` "
   ]
  },
  {
   "cell_type": "code",
   "execution_count": 2,
   "metadata": {
    "deletable": false,
    "nbgrader": {
     "cell_type": "code",
     "checksum": "43bd04286732b3ac3b1be8f4bdcae9ff",
     "grade": false,
     "grade_id": "problem-1",
     "locked": false,
     "schema_version": 3,
     "solution": true,
     "task": false
    },
    "tags": []
   },
   "outputs": [],
   "source": [
    "def primes(n):\n",
    "    \"\"\"Returns all prime numbers from 2 to n (excluding n) \"\"\"\n",
    "    result = []\n",
    "    for num in range(2, n):\n",
    "        \n",
    "        prime = True\n",
    "        \n",
    "        for i in range(2, int(num ** 0.5) + 1):\n",
    "            if num % i == 0:\n",
    "                prime = False\n",
    "                break\n",
    "                \n",
    "        if prime:\n",
    "            result.append(num)\n",
    "            \n",
    "    return result\n",
    "#    raise NotImplementedError()"
   ]
  },
  {
   "cell_type": "markdown",
   "metadata": {
    "deletable": false,
    "editable": false,
    "nbgrader": {
     "cell_type": "markdown",
     "checksum": "4db33934c70ea5b35a99dbaf7956f11d",
     "grade": false,
     "grade_id": "problem-1-check",
     "locked": true,
     "schema_version": 3,
     "solution": false,
     "task": false
    },
    "tags": []
   },
   "source": [
    "Your function should return `[2, 3, 5, 7]` for $n=10$. Check that it does:"
   ]
  },
  {
   "cell_type": "code",
   "execution_count": 3,
   "metadata": {
    "editable": false,
    "tags": []
   },
   "outputs": [
    {
     "data": {
      "text/plain": [
       "[2, 3, 5, 7]"
      ]
     },
     "execution_count": 3,
     "metadata": {},
     "output_type": "execute_result"
    }
   ],
   "source": [
    "primes(10)"
   ]
  },
  {
   "cell_type": "code",
   "execution_count": 4,
   "metadata": {
    "deletable": false,
    "editable": false,
    "nbgrader": {
     "cell_type": "code",
     "checksum": "89357302c99862beb9aa1607fe7be022",
     "grade": true,
     "grade_id": "problem-1-tests",
     "locked": true,
     "points": 10,
     "schema_version": 3,
     "solution": false,
     "task": false
    },
    "tags": []
   },
   "outputs": [],
   "source": [
    "\"\"\"Check that primes returns the correct output for several inputs\"\"\"\n",
    "assert primes(3) == [2]\n",
    "assert primes(6) == [2, 3, 5]"
   ]
  },
  {
   "cell_type": "markdown",
   "metadata": {
    "deletable": false,
    "editable": false,
    "nbgrader": {
     "cell_type": "markdown",
     "checksum": "cdcc68640240579b8ffafaab4f54024d",
     "grade": false,
     "grade_id": "problem-2-header",
     "locked": true,
     "schema_version": 3,
     "solution": false,
     "task": false
    },
    "tags": []
   },
   "source": [
    "---\n",
    "\n",
    "## 2. `factor` (15 points)\n",
    "\n",
    "Write a function to return all the prime factors of $n$, where $n$ is a parameter (*Hint: you can call your* `prime` *function from the previous problem*).  \n",
    "\n",
    "``` \n",
    "$ factor(40)\n",
    "[2, 2, 2, 5]\n",
    "\n",
    "$ factor(23)\n",
    "[23]\n",
    "``` "
   ]
  },
  {
   "cell_type": "code",
   "execution_count": 5,
   "metadata": {
    "deletable": false,
    "nbgrader": {
     "cell_type": "code",
     "checksum": "43c222189f5ba5ca29f67c99fae5fed3",
     "grade": false,
     "grade_id": "problem-2",
     "locked": false,
     "schema_version": 3,
     "solution": true,
     "task": false
    },
    "tags": []
   },
   "outputs": [],
   "source": [
    "def factor(n):\n",
    "    \"\"\"Return all the prime factors of n.\"\"\"\n",
    "    factors = []\n",
    "    for prime in primes(n+1):\n",
    "        while n % prime == 0:\n",
    "            factors.append(prime)\n",
    "            n //= prime #floordiv\n",
    "    return factors\n",
    "\n",
    "#    raise NotImplementedError()"
   ]
  },
  {
   "cell_type": "markdown",
   "metadata": {
    "deletable": false,
    "editable": false,
    "nbgrader": {
     "cell_type": "markdown",
     "checksum": "9410c0892c65847529505a846c20f631",
     "grade": false,
     "grade_id": "problem-2-check",
     "locked": true,
     "schema_version": 3,
     "solution": false,
     "task": false
    },
    "tags": []
   },
   "source": [
    "The factors of `35` are `[5, 7]`. Verify that this is the answer you get:"
   ]
  },
  {
   "cell_type": "code",
   "execution_count": 6,
   "metadata": {
    "tags": []
   },
   "outputs": [
    {
     "data": {
      "text/plain": [
       "[5, 7]"
      ]
     },
     "execution_count": 6,
     "metadata": {},
     "output_type": "execute_result"
    }
   ],
   "source": [
    "factor(35)"
   ]
  },
  {
   "cell_type": "code",
   "execution_count": 7,
   "metadata": {
    "deletable": false,
    "editable": false,
    "nbgrader": {
     "cell_type": "code",
     "checksum": "940dee8270a8b4d8e8ff157a60f6a62b",
     "grade": true,
     "grade_id": "problem-2-tests",
     "locked": true,
     "points": 15,
     "schema_version": 3,
     "solution": false,
     "task": false
    },
    "tags": []
   },
   "outputs": [],
   "source": [
    "\"\"\"Check that factor returns the correct answer for various inputs.\"\"\"\n",
    "assert factor(2) == [2]\n",
    "assert factor(12) == [2, 2, 3]\n"
   ]
  }
 ],
 "metadata": {
  "kernelspec": {
   "display_name": "Python 3 (ipykernel)",
   "language": "python",
   "name": "python3"
  },
  "language_info": {
   "codemirror_mode": {
    "name": "ipython",
    "version": 3
   },
   "file_extension": ".py",
   "mimetype": "text/x-python",
   "name": "python",
   "nbconvert_exporter": "python",
   "pygments_lexer": "ipython3",
   "version": "3.12.6"
  }
 },
 "nbformat": 4,
 "nbformat_minor": 4
}
