{
 "cells": [
  {
   "cell_type": "markdown",
   "id": "83bdead7",
   "metadata": {
    "deletable": false,
    "editable": false,
    "tags": []
   },
   "source": [
    "### CS 210: Data Management for Data Science\n",
    "#### Fall 2023"
   ]
  },
  {
   "cell_type": "markdown",
   "id": "ea48b6b6",
   "metadata": {
    "deletable": false,
    "editable": false,
    "tags": []
   },
   "source": [
    "Before you turn this problem in, make sure everything runs as expected. First, **restart the kernel** (in the menubar, select Kernel$\\rightarrow$Restart) and then **run all cells** (in the menubar, select Cell$\\rightarrow$Run All).\n",
    "\n",
    "Make sure you fill in any place that says `YOUR CODE HERE` or \"YOUR ANSWER HERE\", as well as your name and collaborators below:"
   ]
  },
  {
   "cell_type": "code",
   "execution_count": 1,
   "id": "ae5655df",
   "metadata": {
    "deletable": false,
    "tags": []
   },
   "outputs": [],
   "source": [
    "NAME = \"Arnav Dashaputra\"\n",
    "COLLABORATORS = \"\""
   ]
  },
  {
   "cell_type": "markdown",
   "id": "2aac2e6c",
   "metadata": {},
   "source": [
    "---"
   ]
  },
  {
   "cell_type": "markdown",
   "id": "37da66ee-a957-49e7-bd80-c1a39743a344",
   "metadata": {
    "deletable": false,
    "editable": false,
    "nbgrader": {
     "cell_type": "markdown",
     "checksum": "535c21960d4663d5edac398cb445d087",
     "grade": false,
     "grade_id": "jupyter",
     "locked": true,
     "schema_version": 3,
     "solution": false
    }
   },
   "source": [
    "For this problem set, we'll be using the Jupyter notebook:\n",
    "\n",
    "![](jupyter.png)"
   ]
  },
  {
   "cell_type": "markdown",
   "id": "aaf644ad-24b3-4765-96ac-c69407a6044e",
   "metadata": {
    "deletable": false,
    "editable": false,
    "nbgrader": {
     "cell_type": "markdown",
     "checksum": "69ea6540b921b17642b6020ac328fce9",
     "grade": false,
     "grade_id": "problem-4-header",
     "locked": true,
     "schema_version": 3,
     "solution": false,
     "task": false
    },
    "tags": []
   },
   "source": [
    "---\n",
    "## 4. `stats` (25 points)\n",
    "\n",
    "Write a function called `stats` to return the mean, median, and\n",
    "standard deviation (in that order) of a list of integers, where the list of integers is given as a parameter. \n",
    "\n",
    "Suppose the numbers are $x_1,x_2,...,x_n$. Then the mean is $\\mu=\\frac{1}{n}\\Sigma_{i=1}^{n}x_i$. \n",
    "\n",
    "The median is the \"middle\" value is the number of integers ($n$) is odd, or the average of the two \"middle\" values if $n$ is even (assuming the $x_i$ values are arranged in increasing order). \n",
    "\n",
    "The standard deviation is computed as follows: \n",
    "\n",
    "$\\sigma=\\sqrt{\\frac{1}{n-1}\\Sigma_{i=1}^{n}(x_i-\\mu)^2}$.\n",
    "\n",
    "The stats must be returned in a list. \n",
    "\n",
    "Example:\n",
    "\n",
    "```\n",
    "[In]: stats([15, 4, 10, 2])\n",
    "[Out]: [7.75, 7.0, 5.909032633745278]\n",
    "```\n"
   ]
  },
  {
   "cell_type": "code",
   "execution_count": 2,
   "id": "0aafc142-4994-4ac8-b581-5847a00cf907",
   "metadata": {
    "deletable": false,
    "editable": false,
    "tags": []
   },
   "outputs": [],
   "source": [
    "import math"
   ]
  },
  {
   "cell_type": "code",
   "execution_count": 3,
   "id": "45671c22-4e0d-4eac-b44c-d6368fb3382e",
   "metadata": {
    "deletable": false,
    "nbgrader": {
     "cell_type": "code",
     "checksum": "91f9c81698c824c1d92abcb7823fff9c",
     "grade": false,
     "grade_id": "problem-4",
     "locked": false,
     "schema_version": 3,
     "solution": true,
     "task": false
    },
    "tags": []
   },
   "outputs": [],
   "source": [
    "def stats(ints):\n",
    "    \"\"\"Returns the mean, median, and standard deviation (in that order) of a \n",
    "    list of integers given as a parameter.\"\"\"\n",
    "    \n",
    "    # avg\n",
    "    mean = sum(ints) / len(ints)\n",
    "    \n",
    "    # median\n",
    "    ordered = sorted(ints)\n",
    "    mid = len(ints) // 2\n",
    "    median = ordered[mid]\n",
    "    if len(ints) % 2 == 0:\n",
    "        median = (ordered[mid - 1] + ordered[mid]) / 2\n",
    "    \n",
    "    # stdev\n",
    "    std_dev = math.sqrt(sum((x - mean) ** 2 for x in ints) / (len(ints) - 1))    \n",
    "    \n",
    "    return [mean, median, std_dev]"
   ]
  },
  {
   "cell_type": "markdown",
   "id": "c4a8c42e-9f91-4e3c-a618-45f2180f448c",
   "metadata": {
    "deletable": false,
    "editable": false,
    "nbgrader": {
     "cell_type": "markdown",
     "checksum": "d6e291fc91ccb5cbab475e3302fdd49c",
     "grade": false,
     "grade_id": "problem-4-check",
     "locked": true,
     "schema_version": 3,
     "solution": false,
     "task": false
    },
    "tags": []
   },
   "source": [
    "Your function should return `[7.75, 7.0, 5.909032633745278]` for `[15, 4, 10, 2]`. Check that it does: "
   ]
  },
  {
   "cell_type": "code",
   "execution_count": 4,
   "id": "f51ed754-a116-49de-955a-f3bfd519e4b1",
   "metadata": {
    "editable": false,
    "tags": []
   },
   "outputs": [
    {
     "data": {
      "text/plain": [
       "[7.75, 7.0, 5.909032633745278]"
      ]
     },
     "execution_count": 4,
     "metadata": {},
     "output_type": "execute_result"
    }
   ],
   "source": [
    "stats([15, 4, 10, 2])"
   ]
  },
  {
   "cell_type": "code",
   "execution_count": 5,
   "id": "50697d35-ae13-4f48-80c7-33e178f3e8a3",
   "metadata": {
    "deletable": false,
    "editable": false,
    "nbgrader": {
     "cell_type": "code",
     "checksum": "4c9f0a5e84858f86dd18f13267f30db0",
     "grade": true,
     "grade_id": "problem-4-tests",
     "locked": true,
     "points": 25,
     "schema_version": 3,
     "solution": false,
     "task": false
    },
    "tags": []
   },
   "outputs": [],
   "source": [
    "\"\"\" Check that the stats function returns the correct output.  \"\"\"\n",
    "assert stats([15, 4, 10, 2]) == [7.75, 7.0, 5.909032633745278]"
   ]
  }
 ],
 "metadata": {
  "kernelspec": {
   "display_name": "Python 3 (ipykernel)",
   "language": "python",
   "name": "python3"
  },
  "language_info": {
   "codemirror_mode": {
    "name": "ipython",
    "version": 3
   },
   "file_extension": ".py",
   "mimetype": "text/x-python",
   "name": "python",
   "nbconvert_exporter": "python",
   "pygments_lexer": "ipython3",
   "version": "3.12.6"
  }
 },
 "nbformat": 4,
 "nbformat_minor": 5
}
